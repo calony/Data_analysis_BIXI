{
 "cells": [
  {
   "cell_type": "code",
   "execution_count": 43,
   "metadata": {},
   "outputs": [],
   "source": [
    "import pandas as pd\n",
    "import numpy as np\n",
    "import matplotlib.pyplot as plt\n",
    "%matplotlib inline\n",
    "import datetime\n",
    "import seaborn as sns"
   ]
  },
  {
   "cell_type": "code",
   "execution_count": 66,
   "metadata": {},
   "outputs": [
    {
     "data": {
      "text/plain": [
       "'3.0.2'"
      ]
     },
     "execution_count": 66,
     "metadata": {},
     "output_type": "execute_result"
    }
   ],
   "source": [
    "matplotlib.__version__"
   ]
  },
  {
   "cell_type": "code",
   "execution_count": 17,
   "metadata": {},
   "outputs": [],
   "source": [
    "df = pd.read_csv(r'./data/OD_2018-04.csv') # use . to specify the parent folder of this script"
   ]
  },
  {
   "cell_type": "code",
   "execution_count": 18,
   "metadata": {},
   "outputs": [
    {
     "name": "stdout",
     "output_type": "stream",
     "text": [
      "<class 'pandas.core.frame.DataFrame'>\n",
      "RangeIndex: 236982 entries, 0 to 236981\n",
      "Data columns (total 6 columns):\n",
      "start_date            236982 non-null object\n",
      "start_station_code    236982 non-null int64\n",
      "end_date              236982 non-null object\n",
      "end_station_code      236982 non-null int64\n",
      "duration_sec          236982 non-null int64\n",
      "is_member             236982 non-null int64\n",
      "dtypes: int64(4), object(2)\n",
      "memory usage: 10.8+ MB\n"
     ]
    }
   ],
   "source": [
    "df.info()"
   ]
  },
  {
   "cell_type": "code",
   "execution_count": 19,
   "metadata": {},
   "outputs": [
    {
     "data": {
      "text/html": [
       "<div>\n",
       "<style scoped>\n",
       "    .dataframe tbody tr th:only-of-type {\n",
       "        vertical-align: middle;\n",
       "    }\n",
       "\n",
       "    .dataframe tbody tr th {\n",
       "        vertical-align: top;\n",
       "    }\n",
       "\n",
       "    .dataframe thead th {\n",
       "        text-align: right;\n",
       "    }\n",
       "</style>\n",
       "<table border=\"1\" class=\"dataframe\">\n",
       "  <thead>\n",
       "    <tr style=\"text-align: right;\">\n",
       "      <th></th>\n",
       "      <th>start_date</th>\n",
       "      <th>start_station_code</th>\n",
       "      <th>end_date</th>\n",
       "      <th>end_station_code</th>\n",
       "      <th>duration_sec</th>\n",
       "      <th>is_member</th>\n",
       "    </tr>\n",
       "  </thead>\n",
       "  <tbody>\n",
       "    <tr>\n",
       "      <th>0</th>\n",
       "      <td>2018-04-10 11:56</td>\n",
       "      <td>7030</td>\n",
       "      <td>2018-04-10 11:57</td>\n",
       "      <td>6141</td>\n",
       "      <td>87</td>\n",
       "      <td>1</td>\n",
       "    </tr>\n",
       "    <tr>\n",
       "      <th>1</th>\n",
       "      <td>2018-04-10 11:56</td>\n",
       "      <td>6100</td>\n",
       "      <td>2018-04-10 11:59</td>\n",
       "      <td>6064</td>\n",
       "      <td>122</td>\n",
       "      <td>1</td>\n",
       "    </tr>\n",
       "    <tr>\n",
       "      <th>2</th>\n",
       "      <td>2018-04-10 11:57</td>\n",
       "      <td>6730</td>\n",
       "      <td>2018-04-10 12:16</td>\n",
       "      <td>6396</td>\n",
       "      <td>1132</td>\n",
       "      <td>1</td>\n",
       "    </tr>\n",
       "    <tr>\n",
       "      <th>3</th>\n",
       "      <td>2018-04-10 11:58</td>\n",
       "      <td>6108</td>\n",
       "      <td>2018-04-10 12:02</td>\n",
       "      <td>6114</td>\n",
       "      <td>271</td>\n",
       "      <td>1</td>\n",
       "    </tr>\n",
       "    <tr>\n",
       "      <th>4</th>\n",
       "      <td>2018-04-10 12:01</td>\n",
       "      <td>6223</td>\n",
       "      <td>2018-04-10 12:10</td>\n",
       "      <td>6233</td>\n",
       "      <td>513</td>\n",
       "      <td>1</td>\n",
       "    </tr>\n",
       "  </tbody>\n",
       "</table>\n",
       "</div>"
      ],
      "text/plain": [
       "         start_date  start_station_code          end_date  end_station_code  \\\n",
       "0  2018-04-10 11:56                7030  2018-04-10 11:57              6141   \n",
       "1  2018-04-10 11:56                6100  2018-04-10 11:59              6064   \n",
       "2  2018-04-10 11:57                6730  2018-04-10 12:16              6396   \n",
       "3  2018-04-10 11:58                6108  2018-04-10 12:02              6114   \n",
       "4  2018-04-10 12:01                6223  2018-04-10 12:10              6233   \n",
       "\n",
       "   duration_sec  is_member  \n",
       "0            87          1  \n",
       "1           122          1  \n",
       "2          1132          1  \n",
       "3           271          1  \n",
       "4           513          1  "
      ]
     },
     "execution_count": 19,
     "metadata": {},
     "output_type": "execute_result"
    }
   ],
   "source": [
    "df.head()"
   ]
  },
  {
   "cell_type": "code",
   "execution_count": 49,
   "metadata": {
    "scrolled": true
   },
   "outputs": [
    {
     "data": {
      "text/html": [
       "<div>\n",
       "<style scoped>\n",
       "    .dataframe tbody tr th:only-of-type {\n",
       "        vertical-align: middle;\n",
       "    }\n",
       "\n",
       "    .dataframe tbody tr th {\n",
       "        vertical-align: top;\n",
       "    }\n",
       "\n",
       "    .dataframe thead th {\n",
       "        text-align: right;\n",
       "    }\n",
       "</style>\n",
       "<table border=\"1\" class=\"dataframe\">\n",
       "  <thead>\n",
       "    <tr style=\"text-align: right;\">\n",
       "      <th></th>\n",
       "      <th>start_date</th>\n",
       "      <th>start_station_code</th>\n",
       "      <th>end_date</th>\n",
       "      <th>end_station_code</th>\n",
       "      <th>duration_sec</th>\n",
       "      <th>is_member</th>\n",
       "      <th>start_hour</th>\n",
       "    </tr>\n",
       "  </thead>\n",
       "  <tbody>\n",
       "    <tr>\n",
       "      <th>0</th>\n",
       "      <td>2018-04-10 11:56:00</td>\n",
       "      <td>7030</td>\n",
       "      <td>2018-04-10 11:57</td>\n",
       "      <td>6141</td>\n",
       "      <td>87</td>\n",
       "      <td>1</td>\n",
       "      <td>11</td>\n",
       "    </tr>\n",
       "    <tr>\n",
       "      <th>1</th>\n",
       "      <td>2018-04-10 11:56:00</td>\n",
       "      <td>6100</td>\n",
       "      <td>2018-04-10 11:59</td>\n",
       "      <td>6064</td>\n",
       "      <td>122</td>\n",
       "      <td>1</td>\n",
       "      <td>11</td>\n",
       "    </tr>\n",
       "    <tr>\n",
       "      <th>2</th>\n",
       "      <td>2018-04-10 11:57:00</td>\n",
       "      <td>6730</td>\n",
       "      <td>2018-04-10 12:16</td>\n",
       "      <td>6396</td>\n",
       "      <td>1132</td>\n",
       "      <td>1</td>\n",
       "      <td>11</td>\n",
       "    </tr>\n",
       "    <tr>\n",
       "      <th>3</th>\n",
       "      <td>2018-04-10 11:58:00</td>\n",
       "      <td>6108</td>\n",
       "      <td>2018-04-10 12:02</td>\n",
       "      <td>6114</td>\n",
       "      <td>271</td>\n",
       "      <td>1</td>\n",
       "      <td>11</td>\n",
       "    </tr>\n",
       "    <tr>\n",
       "      <th>4</th>\n",
       "      <td>2018-04-10 12:01:00</td>\n",
       "      <td>6223</td>\n",
       "      <td>2018-04-10 12:10</td>\n",
       "      <td>6233</td>\n",
       "      <td>513</td>\n",
       "      <td>1</td>\n",
       "      <td>12</td>\n",
       "    </tr>\n",
       "  </tbody>\n",
       "</table>\n",
       "</div>"
      ],
      "text/plain": [
       "           start_date  start_station_code          end_date  end_station_code  \\\n",
       "0 2018-04-10 11:56:00                7030  2018-04-10 11:57              6141   \n",
       "1 2018-04-10 11:56:00                6100  2018-04-10 11:59              6064   \n",
       "2 2018-04-10 11:57:00                6730  2018-04-10 12:16              6396   \n",
       "3 2018-04-10 11:58:00                6108  2018-04-10 12:02              6114   \n",
       "4 2018-04-10 12:01:00                6223  2018-04-10 12:10              6233   \n",
       "\n",
       "   duration_sec  is_member  start_hour  \n",
       "0            87          1          11  \n",
       "1           122          1          11  \n",
       "2          1132          1          11  \n",
       "3           271          1          11  \n",
       "4           513          1          12  "
      ]
     },
     "execution_count": 49,
     "metadata": {},
     "output_type": "execute_result"
    }
   ],
   "source": [
    "df['start_date'] = pd.to_datetime(df['start_date'])\n",
    "df['start_hour'] = df['start_date'].apply(lambda x:x.hour)\n",
    "df.head()"
   ]
  },
  {
   "cell_type": "code",
   "execution_count": 63,
   "metadata": {
    "scrolled": true
   },
   "outputs": [
    {
     "data": {
      "text/plain": [
       "([<matplotlib.axis.XTick at 0x23d6a1e1cf8>,\n",
       "  <matplotlib.axis.XTick at 0x23d6a1e16a0>,\n",
       "  <matplotlib.axis.XTick at 0x23d6a1e13c8>,\n",
       "  <matplotlib.axis.XTick at 0x23d6a1f1b00>,\n",
       "  <matplotlib.axis.XTick at 0x23d6a3fdf60>,\n",
       "  <matplotlib.axis.XTick at 0x23d6a4074e0>,\n",
       "  <matplotlib.axis.XTick at 0x23d6a407a20>,\n",
       "  <matplotlib.axis.XTick at 0x23d6a407f60>,\n",
       "  <matplotlib.axis.XTick at 0x23d6a40d4e0>,\n",
       "  <matplotlib.axis.XTick at 0x23d6a40da20>,\n",
       "  <matplotlib.axis.XTick at 0x23d6a40df60>,\n",
       "  <matplotlib.axis.XTick at 0x23d6a4144e0>,\n",
       "  <matplotlib.axis.XTick at 0x23d6a40df28>,\n",
       "  <matplotlib.axis.XTick at 0x23d6a4074a8>,\n",
       "  <matplotlib.axis.XTick at 0x23d6a414438>,\n",
       "  <matplotlib.axis.XTick at 0x23d6a414e10>,\n",
       "  <matplotlib.axis.XTick at 0x23d6a41d390>,\n",
       "  <matplotlib.axis.XTick at 0x23d6a41d8d0>,\n",
       "  <matplotlib.axis.XTick at 0x23d6a41de10>,\n",
       "  <matplotlib.axis.XTick at 0x23d6a425390>,\n",
       "  <matplotlib.axis.XTick at 0x23d6a4258d0>,\n",
       "  <matplotlib.axis.XTick at 0x23d6a41d470>,\n",
       "  <matplotlib.axis.XTick at 0x23d6a414c18>,\n",
       "  <matplotlib.axis.XTick at 0x23d6a425be0>,\n",
       "  <matplotlib.axis.XTick at 0x23d6a42f198>],\n",
       " <a list of 25 Text xticklabel objects>)"
      ]
     },
     "execution_count": 63,
     "metadata": {},
     "output_type": "execute_result"
    },
    {
     "data": {
      "image/png": "[encoded data removed]",
      "text/plain": [
       "<Figure size 432x288 with 1 Axes>"
      ]
     },
     "metadata": {
      "needs_background": "light"
     },
     "output_type": "display_data"
    }
   ],
   "source": [
    "data1 = df[df['is_member']==1]['start_hour']\n",
    "sns.distplot(data1, kde=False)\n",
    "\n",
    "data2 = df[df['is_member']==0]['start_hour']\n",
    "sns.distplot(data2, kde=False)\n",
    "plt.xticks(ticks=range(25))"
   ]
  },
  {
   "cell_type": "code",
   "execution_count": 65,
   "metadata": {
    "scrolled": false
   },
   "outputs": [
    {
     "data": {
      "text/plain": [
       "Text(0.5, 1.0, '2018/04')"
      ]
     },
     "execution_count": 65,
     "metadata": {},
     "output_type": "execute_result"
    },
    {
     "data": {
      "image/png": "[encoded data removed]",
      "text/plain": [
       "<Figure size 432x288 with 1 Axes>"
      ]
     },
     "metadata": {
      "needs_background": "light"
     },
     "output_type": "display_data"
    }
   ],
   "source": [
    "data = df['start_hour']\n",
    "hue = df['is_member']\n",
    "sns.countplot(data, hue=hue)\n",
    "plt.legend(bbox_to_anchor=(1.05, 1), loc=2, borderaxespad=0.)\n",
    "plt.title('2018/04')"
   ]
  },
  {
   "cell_type": "markdown",
   "metadata": {},
   "source": [
    "The above plot showed that if you are a member, you tend to use bixi for work-commute, which is indicated by the two peaks at 8hr and 17hr. This trend is not present in non-members."
   ]
  },
  {
   "cell_type": "code",
   "execution_count": 61,
   "metadata": {},
   "outputs": [
    {
     "data": {
      "text/plain": [
       "([<matplotlib.axis.XTick at 0x23d69f8dba8>,\n",
       "  <matplotlib.axis.XTick at 0x23d69f8d4e0>,\n",
       "  <matplotlib.axis.XTick at 0x23d69f8d358>,\n",
       "  <matplotlib.axis.XTick at 0x23d69fddb38>,\n",
       "  <matplotlib.axis.XTick at 0x23d69fdde80>,\n",
       "  <matplotlib.axis.XTick at 0x23d69fe6550>,\n",
       "  <matplotlib.axis.XTick at 0x23d69fe67f0>,\n",
       "  <matplotlib.axis.XTick at 0x23d69fe6cc0>,\n",
       "  <matplotlib.axis.XTick at 0x23d69fed240>,\n",
       "  <matplotlib.axis.XTick at 0x23d69fed780>,\n",
       "  <matplotlib.axis.XTick at 0x23d69fedcc0>,\n",
       "  <matplotlib.axis.XTick at 0x23d69ff6240>,\n",
       "  <matplotlib.axis.XTick at 0x23d69ff6780>,\n",
       "  <matplotlib.axis.XTick at 0x23d69ff6cc0>,\n",
       "  <matplotlib.axis.XTick at 0x23d69ff6588>,\n",
       "  <matplotlib.axis.XTick at 0x23d69fed860>,\n",
       "  <matplotlib.axis.XTick at 0x23d69ffc160>,\n",
       "  <matplotlib.axis.XTick at 0x23d69ffc780>,\n",
       "  <matplotlib.axis.XTick at 0x23d69ffccc0>,\n",
       "  <matplotlib.axis.XTick at 0x23d6a005240>,\n",
       "  <matplotlib.axis.XTick at 0x23d6a005780>,\n",
       "  <matplotlib.axis.XTick at 0x23d6a005cc0>,\n",
       "  <matplotlib.axis.XTick at 0x23d6a00c240>,\n",
       "  <matplotlib.axis.XTick at 0x23d6a0055f8>],\n",
       " <a list of 24 Text xticklabel objects>)"
      ]
     },
     "execution_count": 61,
     "metadata": {},
     "output_type": "execute_result"
    },
    {
     "data": {
      "image/png": "[encoded data removed]",
      "text/plain": [
       "<Figure size 432x288 with 1 Axes>"
      ]
     },
     "metadata": {
      "needs_background": "light"
     },
     "output_type": "display_data"
    }
   ],
   "source": [
    "data = df['start_hour']\n",
    "plt.hist(data, bins=24, edgecolor='black') # use edgecolor='black' to outline the box\n",
    "plt.xticks(ticks=range(24))"
   ]
  }
 ],
 "metadata": {
  "kernelspec": {
   "display_name": "Python 3",
   "language": "python",
   "name": "python3"
  },
  "language_info": {
   "codemirror_mode": {
    "name": "ipython",
    "version": 3
   },
   "file_extension": ".py",
   "mimetype": "text/x-python",
   "name": "python",
   "nbconvert_exporter": "python",
   "pygments_lexer": "ipython3",
   "version": "3.7.1"
  }
 },
 "nbformat": 4,
 "nbformat_minor": 2
}
