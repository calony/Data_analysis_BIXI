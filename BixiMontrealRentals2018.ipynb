{
 "cells": [
  {
   "cell_type": "code",
   "execution_count": 1,
   "metadata": {},
   "outputs": [],
   "source": [
    "import pandas as pd\n",
    "import numpy as np\n",
    "import matplotlib.pyplot as plt\n",
    "%matplotlib inline\n",
    "import datetime\n",
    "import seaborn as sns"
   ]
  },
  {
   "cell_type": "code",
   "execution_count": 2,
   "metadata": {},
   "outputs": [
    {
     "data": {
      "text/html": [
       "<style type=\"text/css\">\n",
       "table.dataframe td, table.dataframe th {\n",
       "    border: 1px  black solid !important;\n",
       "  color: black !important;\n",
       "}\n",
       "</style>\n",
       "# set table border\n"
      ],
      "text/plain": [
       "<IPython.core.display.HTML object>"
      ]
     },
     "metadata": {},
     "output_type": "display_data"
    }
   ],
   "source": [
    "%%HTML\n",
    "<style type=\"text/css\">\n",
    "table.dataframe td, table.dataframe th {\n",
    "    border: 1px  black solid !important;\n",
    "  color: black !important;\n",
    "}\n",
    "</style>\n",
    "# set table border"
   ]
  },
  {
   "cell_type": "code",
   "execution_count": 3,
   "metadata": {},
   "outputs": [],
   "source": [
    "df = pd.read_csv(r'./data/OD_2018-04.csv') # use . to specify the parent folder of this script\n",
    "station = pd.read_csv(r'./data/Stations_2018.csv')"
   ]
  },
  {
   "cell_type": "code",
   "execution_count": 4,
   "metadata": {},
   "outputs": [
    {
     "name": "stdout",
     "output_type": "stream",
     "text": [
      "<class 'pandas.core.frame.DataFrame'>\n",
      "RangeIndex: 236982 entries, 0 to 236981\n",
      "Data columns (total 6 columns):\n",
      "start_date            236982 non-null object\n",
      "start_station_code    236982 non-null int64\n",
      "end_date              236982 non-null object\n",
      "end_station_code      236982 non-null int64\n",
      "duration_sec          236982 non-null int64\n",
      "is_member             236982 non-null int64\n",
      "dtypes: int64(4), object(2)\n",
      "memory usage: 10.8+ MB\n"
     ]
    }
   ],
   "source": [
    "df.info()"
   ]
  },
  {
   "cell_type": "code",
   "execution_count": 5,
   "metadata": {
    "scrolled": true
   },
   "outputs": [
    {
     "data": {
      "text/html": [
       "<div>\n",
       "<style scoped>\n",
       "    .dataframe tbody tr th:only-of-type {\n",
       "        vertical-align: middle;\n",
       "    }\n",
       "\n",
       "    .dataframe tbody tr th {\n",
       "        vertical-align: top;\n",
       "    }\n",
       "\n",
       "    .dataframe thead th {\n",
       "        text-align: right;\n",
       "    }\n",
       "</style>\n",
       "<table border=\"1\" class=\"dataframe\">\n",
       "  <thead>\n",
       "    <tr style=\"text-align: right;\">\n",
       "      <th></th>\n",
       "      <th>start_date</th>\n",
       "      <th>start_station_code</th>\n",
       "      <th>end_date</th>\n",
       "      <th>end_station_code</th>\n",
       "      <th>duration_sec</th>\n",
       "      <th>is_member</th>\n",
       "      <th>start_hour</th>\n",
       "    </tr>\n",
       "  </thead>\n",
       "  <tbody>\n",
       "    <tr>\n",
       "      <th>0</th>\n",
       "      <td>2018-04-10 11:56:00</td>\n",
       "      <td>7030</td>\n",
       "      <td>2018-04-10 11:57</td>\n",
       "      <td>6141</td>\n",
       "      <td>87</td>\n",
       "      <td>1</td>\n",
       "      <td>11</td>\n",
       "    </tr>\n",
       "    <tr>\n",
       "      <th>1</th>\n",
       "      <td>2018-04-10 11:56:00</td>\n",
       "      <td>6100</td>\n",
       "      <td>2018-04-10 11:59</td>\n",
       "      <td>6064</td>\n",
       "      <td>122</td>\n",
       "      <td>1</td>\n",
       "      <td>11</td>\n",
       "    </tr>\n",
       "    <tr>\n",
       "      <th>2</th>\n",
       "      <td>2018-04-10 11:57:00</td>\n",
       "      <td>6730</td>\n",
       "      <td>2018-04-10 12:16</td>\n",
       "      <td>6396</td>\n",
       "      <td>1132</td>\n",
       "      <td>1</td>\n",
       "      <td>11</td>\n",
       "    </tr>\n",
       "    <tr>\n",
       "      <th>3</th>\n",
       "      <td>2018-04-10 11:58:00</td>\n",
       "      <td>6108</td>\n",
       "      <td>2018-04-10 12:02</td>\n",
       "      <td>6114</td>\n",
       "      <td>271</td>\n",
       "      <td>1</td>\n",
       "      <td>11</td>\n",
       "    </tr>\n",
       "    <tr>\n",
       "      <th>4</th>\n",
       "      <td>2018-04-10 12:01:00</td>\n",
       "      <td>6223</td>\n",
       "      <td>2018-04-10 12:10</td>\n",
       "      <td>6233</td>\n",
       "      <td>513</td>\n",
       "      <td>1</td>\n",
       "      <td>12</td>\n",
       "    </tr>\n",
       "  </tbody>\n",
       "</table>\n",
       "</div>"
      ],
      "text/plain": [
       "           start_date  start_station_code          end_date  end_station_code  \\\n",
       "0 2018-04-10 11:56:00                7030  2018-04-10 11:57              6141   \n",
       "1 2018-04-10 11:56:00                6100  2018-04-10 11:59              6064   \n",
       "2 2018-04-10 11:57:00                6730  2018-04-10 12:16              6396   \n",
       "3 2018-04-10 11:58:00                6108  2018-04-10 12:02              6114   \n",
       "4 2018-04-10 12:01:00                6223  2018-04-10 12:10              6233   \n",
       "\n",
       "   duration_sec  is_member  start_hour  \n",
       "0            87          1          11  \n",
       "1           122          1          11  \n",
       "2          1132          1          11  \n",
       "3           271          1          11  \n",
       "4           513          1          12  "
      ]
     },
     "execution_count": 5,
     "metadata": {},
     "output_type": "execute_result"
    }
   ],
   "source": [
    "df['start_date'] = pd.to_datetime(df['start_date'])\n",
    "df['start_hour'] = df['start_date'].apply(lambda x:x.hour)\n",
    "df.head()"
   ]
  },
  {
   "cell_type": "code",
   "execution_count": 6,
   "metadata": {
    "scrolled": false
   },
   "outputs": [
    {
     "data": {
      "text/plain": [
       "Text(0.5, 1.0, '2018/04')"
      ]
     },
     "execution_count": 6,
     "metadata": {},
     "output_type": "execute_result"
    },
    {
     "data": {
      "image/png": "[encoded data removed]",
      "text/plain": [
       "<Figure size 432x288 with 1 Axes>"
      ]
     },
     "metadata": {
      "needs_background": "light"
     },
     "output_type": "display_data"
    }
   ],
   "source": [
    "data = df['start_hour']\n",
    "hue = df['is_member']\n",
    "sns.countplot(data, hue=hue)\n",
    "plt.legend(bbox_to_anchor=(1.05, 1), loc=2, borderaxespad=0.)\n",
    "plt.title('2018/04')"
   ]
  },
  {
   "cell_type": "markdown",
   "metadata": {},
   "source": [
    "The above plot showed that if you are a member, you tend to use bixi for work-commute, which is indicated by the two peaks at 8hr and 17hr. This trend is not present in non-members."
   ]
  },
  {
   "cell_type": "code",
   "execution_count": 7,
   "metadata": {},
   "outputs": [
    {
     "data": {
      "text/plain": [
       "6100    2560\n",
       "6184    2151\n",
       "6136    1879\n",
       "6221    1837\n",
       "6154    1771\n",
       "Name: start_station_code, dtype: int64"
      ]
     },
     "execution_count": 7,
     "metadata": {},
     "output_type": "execute_result"
    }
   ],
   "source": [
    "# list the 5 most frequently used start_station\n",
    "df['start_station_code'].value_counts().nlargest(5)"
   ]
  },
  {
   "cell_type": "code",
   "execution_count": 8,
   "metadata": {},
   "outputs": [
    {
     "data": {
      "text/plain": [
       "Text(0.5, 1.0, '2018/04')"
      ]
     },
     "execution_count": 8,
     "metadata": {},
     "output_type": "execute_result"
    },
    {
     "data": {
      "image/png": "[encoded data removed]",
      "text/plain": [
       "<Figure size 432x288 with 1 Axes>"
      ]
     },
     "metadata": {
      "needs_background": "light"
     },
     "output_type": "display_data"
    }
   ],
   "source": [
    "# start_station (6100) with the highest count\n",
    "data = df[df['start_station_code']==6100]['start_hour']\n",
    "hue = df['is_member']\n",
    "sns.countplot(data, hue=hue)\n",
    "plt.legend(bbox_to_anchor=(1.05, 1), loc=2, borderaxespad=0.)\n",
    "plt.title('2018/04')"
   ]
  },
  {
   "cell_type": "code",
   "execution_count": 9,
   "metadata": {},
   "outputs": [
    {
     "name": "stdout",
     "output_type": "stream",
     "text": [
      "<class 'pandas.core.frame.DataFrame'>\n",
      "RangeIndex: 552 entries, 0 to 551\n",
      "Data columns (total 4 columns):\n",
      "code         552 non-null int64\n",
      "name         552 non-null object\n",
      "latitude     552 non-null float64\n",
      "longitude    552 non-null float64\n",
      "dtypes: float64(2), int64(1), object(1)\n",
      "memory usage: 17.3+ KB\n"
     ]
    }
   ],
   "source": [
    "station.info()"
   ]
  },
  {
   "cell_type": "code",
   "execution_count": 10,
   "metadata": {
    "scrolled": true
   },
   "outputs": [
    {
     "data": {
      "text/html": [
       "<div>\n",
       "<style scoped>\n",
       "    .dataframe tbody tr th:only-of-type {\n",
       "        vertical-align: middle;\n",
       "    }\n",
       "\n",
       "    .dataframe tbody tr th {\n",
       "        vertical-align: top;\n",
       "    }\n",
       "\n",
       "    .dataframe thead th {\n",
       "        text-align: right;\n",
       "    }\n",
       "</style>\n",
       "<table border=\"1\" class=\"dataframe\">\n",
       "  <thead>\n",
       "    <tr style=\"text-align: right;\">\n",
       "      <th></th>\n",
       "      <th>code</th>\n",
       "      <th>name</th>\n",
       "      <th>latitude</th>\n",
       "      <th>longitude</th>\n",
       "    </tr>\n",
       "  </thead>\n",
       "  <tbody>\n",
       "    <tr>\n",
       "      <th>0</th>\n",
       "      <td>7030</td>\n",
       "      <td>de Bordeaux / Marie-Anne</td>\n",
       "      <td>45.533409</td>\n",
       "      <td>-73.570657</td>\n",
       "    </tr>\n",
       "    <tr>\n",
       "      <th>1</th>\n",
       "      <td>6141</td>\n",
       "      <td>de Bordeaux / Rachel</td>\n",
       "      <td>45.532270</td>\n",
       "      <td>-73.568280</td>\n",
       "    </tr>\n",
       "    <tr>\n",
       "      <th>2</th>\n",
       "      <td>6100</td>\n",
       "      <td>Mackay / de Maisonneuve</td>\n",
       "      <td>45.496590</td>\n",
       "      <td>-73.578510</td>\n",
       "    </tr>\n",
       "    <tr>\n",
       "      <th>3</th>\n",
       "      <td>6064</td>\n",
       "      <td>Métro Peel (de Maisonneuve / Stanley)</td>\n",
       "      <td>45.500380</td>\n",
       "      <td>-73.575070</td>\n",
       "    </tr>\n",
       "    <tr>\n",
       "      <th>4</th>\n",
       "      <td>6730</td>\n",
       "      <td>35e avenue / Beaubien</td>\n",
       "      <td>45.570081</td>\n",
       "      <td>-73.573047</td>\n",
       "    </tr>\n",
       "  </tbody>\n",
       "</table>\n",
       "</div>"
      ],
      "text/plain": [
       "   code                                   name   latitude  longitude\n",
       "0  7030               de Bordeaux / Marie-Anne  45.533409 -73.570657\n",
       "1  6141                   de Bordeaux / Rachel  45.532270 -73.568280\n",
       "2  6100                Mackay / de Maisonneuve  45.496590 -73.578510\n",
       "3  6064  Métro Peel (de Maisonneuve / Stanley)  45.500380 -73.575070\n",
       "4  6730                  35e avenue / Beaubien  45.570081 -73.573047"
      ]
     },
     "execution_count": 10,
     "metadata": {},
     "output_type": "execute_result"
    }
   ],
   "source": [
    "station.head()"
   ]
  },
  {
   "cell_type": "code",
   "execution_count": 11,
   "metadata": {},
   "outputs": [
    {
     "data": {
      "text/html": [
       "<div>\n",
       "<style scoped>\n",
       "    .dataframe tbody tr th:only-of-type {\n",
       "        vertical-align: middle;\n",
       "    }\n",
       "\n",
       "    .dataframe tbody tr th {\n",
       "        vertical-align: top;\n",
       "    }\n",
       "\n",
       "    .dataframe thead th {\n",
       "        text-align: right;\n",
       "    }\n",
       "</style>\n",
       "<table border=\"1\" class=\"dataframe\">\n",
       "  <thead>\n",
       "    <tr style=\"text-align: right;\">\n",
       "      <th></th>\n",
       "      <th>code</th>\n",
       "      <th>name</th>\n",
       "      <th>latitude</th>\n",
       "      <th>longitude</th>\n",
       "    </tr>\n",
       "  </thead>\n",
       "  <tbody>\n",
       "    <tr>\n",
       "      <th>2</th>\n",
       "      <td>6100</td>\n",
       "      <td>Mackay / de Maisonneuve</td>\n",
       "      <td>45.49659</td>\n",
       "      <td>-73.57851</td>\n",
       "    </tr>\n",
       "  </tbody>\n",
       "</table>\n",
       "</div>"
      ],
      "text/plain": [
       "   code                     name  latitude  longitude\n",
       "2  6100  Mackay / de Maisonneuve  45.49659  -73.57851"
      ]
     },
     "execution_count": 11,
     "metadata": {},
     "output_type": "execute_result"
    }
   ],
   "source": [
    "# select the most frequently used start_station (6100)\n",
    "station[station['code'] == 6100]"
   ]
  }
 ],
 "metadata": {
  "kernelspec": {
   "display_name": "Python 3",
   "language": "python",
   "name": "python3"
  },
  "language_info": {
   "codemirror_mode": {
    "name": "ipython",
    "version": 3
   },
   "file_extension": ".py",
   "mimetype": "text/x-python",
   "name": "python",
   "nbconvert_exporter": "python",
   "pygments_lexer": "ipython3",
   "version": "3.7.1"
  }
 },
 "nbformat": 4,
 "nbformat_minor": 2
}
