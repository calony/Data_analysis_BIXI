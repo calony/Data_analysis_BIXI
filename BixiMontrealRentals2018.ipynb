{
 "cells": [
  {
   "cell_type": "code",
   "execution_count": 1,
   "metadata": {},
   "outputs": [],
   "source": [
    "import pandas as pd\n",
    "import numpy as np\n",
    "import matplotlib.pyplot as plt\n",
    "%matplotlib inline\n",
    "import datetime\n",
    "import seaborn as sns"
   ]
  },
  {
   "cell_type": "code",
   "execution_count": 2,
   "metadata": {},
   "outputs": [
    {
     "data": {
      "text/html": [
       "<style type=\"text/css\">\n",
       "table.dataframe td, table.dataframe th {\n",
       "    border: 1px  black solid !important;\n",
       "  color: black !important;\n",
       "}\n",
       "</style>\n",
       "# set table border\n"
      ],
      "text/plain": [
       "<IPython.core.display.HTML object>"
      ]
     },
     "metadata": {},
     "output_type": "display_data"
    }
   ],
   "source": [
    "%%HTML\n",
    "<style type=\"text/css\">\n",
    "table.dataframe td, table.dataframe th {\n",
    "    border: 1px  black solid !important;\n",
    "  color: black !important;\n",
    "}\n",
    "</style>\n",
    "# set table border"
   ]
  },
  {
   "cell_type": "markdown",
   "metadata": {},
   "source": [
    "### (1) Import data"
   ]
  },
  {
   "cell_type": "code",
   "execution_count": 3,
   "metadata": {},
   "outputs": [],
   "source": [
    "df = pd.read_csv(r'./data/OD_2018-04.csv') # use . to specify the parent folder of this script\n",
    "station = pd.read_csv(r'./data/Stations_2018.csv')"
   ]
  },
  {
   "cell_type": "markdown",
   "metadata": {},
   "source": [
    "### (2) Let's explore the trip data"
   ]
  },
  {
   "cell_type": "code",
   "execution_count": 4,
   "metadata": {},
   "outputs": [
    {
     "name": "stdout",
     "output_type": "stream",
     "text": [
      "<class 'pandas.core.frame.DataFrame'>\n",
      "RangeIndex: 236982 entries, 0 to 236981\n",
      "Data columns (total 6 columns):\n",
      "start_date            236982 non-null object\n",
      "start_station_code    236982 non-null int64\n",
      "end_date              236982 non-null object\n",
      "end_station_code      236982 non-null int64\n",
      "duration_sec          236982 non-null int64\n",
      "is_member             236982 non-null int64\n",
      "dtypes: int64(4), object(2)\n",
      "memory usage: 10.8+ MB\n"
     ]
    }
   ],
   "source": [
    "df.info()"
   ]
  },
  {
   "cell_type": "code",
   "execution_count": 5,
   "metadata": {
    "scrolled": true
   },
   "outputs": [
    {
     "data": {
      "text/html": [
       "<div>\n",
       "<style scoped>\n",
       "    .dataframe tbody tr th:only-of-type {\n",
       "        vertical-align: middle;\n",
       "    }\n",
       "\n",
       "    .dataframe tbody tr th {\n",
       "        vertical-align: top;\n",
       "    }\n",
       "\n",
       "    .dataframe thead th {\n",
       "        text-align: right;\n",
       "    }\n",
       "</style>\n",
       "<table border=\"1\" class=\"dataframe\">\n",
       "  <thead>\n",
       "    <tr style=\"text-align: right;\">\n",
       "      <th></th>\n",
       "      <th>start_date</th>\n",
       "      <th>start_station_code</th>\n",
       "      <th>end_date</th>\n",
       "      <th>end_station_code</th>\n",
       "      <th>duration_sec</th>\n",
       "      <th>is_member</th>\n",
       "      <th>start_hour</th>\n",
       "    </tr>\n",
       "  </thead>\n",
       "  <tbody>\n",
       "    <tr>\n",
       "      <th>0</th>\n",
       "      <td>2018-04-10 11:56:00</td>\n",
       "      <td>7030</td>\n",
       "      <td>2018-04-10 11:57</td>\n",
       "      <td>6141</td>\n",
       "      <td>87</td>\n",
       "      <td>1</td>\n",
       "      <td>11</td>\n",
       "    </tr>\n",
       "    <tr>\n",
       "      <th>1</th>\n",
       "      <td>2018-04-10 11:56:00</td>\n",
       "      <td>6100</td>\n",
       "      <td>2018-04-10 11:59</td>\n",
       "      <td>6064</td>\n",
       "      <td>122</td>\n",
       "      <td>1</td>\n",
       "      <td>11</td>\n",
       "    </tr>\n",
       "    <tr>\n",
       "      <th>2</th>\n",
       "      <td>2018-04-10 11:57:00</td>\n",
       "      <td>6730</td>\n",
       "      <td>2018-04-10 12:16</td>\n",
       "      <td>6396</td>\n",
       "      <td>1132</td>\n",
       "      <td>1</td>\n",
       "      <td>11</td>\n",
       "    </tr>\n",
       "    <tr>\n",
       "      <th>3</th>\n",
       "      <td>2018-04-10 11:58:00</td>\n",
       "      <td>6108</td>\n",
       "      <td>2018-04-10 12:02</td>\n",
       "      <td>6114</td>\n",
       "      <td>271</td>\n",
       "      <td>1</td>\n",
       "      <td>11</td>\n",
       "    </tr>\n",
       "    <tr>\n",
       "      <th>4</th>\n",
       "      <td>2018-04-10 12:01:00</td>\n",
       "      <td>6223</td>\n",
       "      <td>2018-04-10 12:10</td>\n",
       "      <td>6233</td>\n",
       "      <td>513</td>\n",
       "      <td>1</td>\n",
       "      <td>12</td>\n",
       "    </tr>\n",
       "  </tbody>\n",
       "</table>\n",
       "</div>"
      ],
      "text/plain": [
       "           start_date  start_station_code          end_date  end_station_code  \\\n",
       "0 2018-04-10 11:56:00                7030  2018-04-10 11:57              6141   \n",
       "1 2018-04-10 11:56:00                6100  2018-04-10 11:59              6064   \n",
       "2 2018-04-10 11:57:00                6730  2018-04-10 12:16              6396   \n",
       "3 2018-04-10 11:58:00                6108  2018-04-10 12:02              6114   \n",
       "4 2018-04-10 12:01:00                6223  2018-04-10 12:10              6233   \n",
       "\n",
       "   duration_sec  is_member  start_hour  \n",
       "0            87          1          11  \n",
       "1           122          1          11  \n",
       "2          1132          1          11  \n",
       "3           271          1          11  \n",
       "4           513          1          12  "
      ]
     },
     "execution_count": 5,
     "metadata": {},
     "output_type": "execute_result"
    }
   ],
   "source": [
    "df['start_date'] = pd.to_datetime(df['start_date'])\n",
    "df['start_hour'] = df['start_date'].apply(lambda x:x.hour)\n",
    "df.head()"
   ]
  },
  {
   "cell_type": "code",
   "execution_count": 6,
   "metadata": {
    "scrolled": true
   },
   "outputs": [
    {
     "data": {
      "text/plain": [
       "Text(0.5, 1.0, '2018/04')"
      ]
     },
     "execution_count": 6,
     "metadata": {},
     "output_type": "execute_result"
    },
    {
     "data": {
      "image/png": "[encoded data removed]",
      "text/plain": [
       "<Figure size 432x288 with 1 Axes>"
      ]
     },
     "metadata": {
      "needs_background": "light"
     },
     "output_type": "display_data"
    }
   ],
   "source": [
    "data = df['start_hour']\n",
    "hue = df['is_member']\n",
    "sns.countplot(data, hue=hue)\n",
    "plt.legend(bbox_to_anchor=(1.05, 1), loc=2, borderaxespad=0.)\n",
    "plt.title('2018/04')"
   ]
  },
  {
   "cell_type": "markdown",
   "metadata": {},
   "source": [
    "Legend: \"1\" represents **member**, \"0\" represents **non-member**.\n",
    "\n",
    "The above is a count plot for number of trips starting for each hour of a day. Interestingly, the distribution for members has a bimodal shape, which is different for non-members. This somehow indicates that if you are a member, you are likely using BIXI for work-commute purpose, which is shown by the two peaks at 8hr and 17hr. This trend is not present in non-members."
   ]
  },
  {
   "cell_type": "code",
   "execution_count": 7,
   "metadata": {},
   "outputs": [
    {
     "data": {
      "text/plain": [
       "count    236982.000000\n",
       "mean        732.055034\n",
       "std         580.180470\n",
       "min          61.000000\n",
       "25%         325.000000\n",
       "50%         565.000000\n",
       "75%         979.000000\n",
       "max        7189.000000\n",
       "Name: duration_sec, dtype: float64"
      ]
     },
     "execution_count": 7,
     "metadata": {},
     "output_type": "execute_result"
    },
    {
     "data": {
      "image/png": "[encoded data removed]",
      "text/plain": [
       "<Figure size 720x360 with 1 Axes>"
      ]
     },
     "metadata": {
      "needs_background": "light"
     },
     "output_type": "display_data"
    }
   ],
   "source": [
    "# information on trip duration in seconds\n",
    "df['duration_sec'].hist(bins=50, figsize=(10,5), edgecolor='black')\n",
    "plt.title('trip duration in seconds')\n",
    "df['duration_sec'].describe()"
   ]
  },
  {
   "cell_type": "markdown",
   "metadata": {},
   "source": [
    "The average duration of a trip is around 12.2 minutes (732 seconds)."
   ]
  },
  {
   "cell_type": "markdown",
   "metadata": {},
   "source": [
    "### (3) Now let's add the station data into the mix"
   ]
  },
  {
   "cell_type": "code",
   "execution_count": 8,
   "metadata": {
    "scrolled": true
   },
   "outputs": [
    {
     "name": "stdout",
     "output_type": "stream",
     "text": [
      "<class 'pandas.core.frame.DataFrame'>\n",
      "RangeIndex: 552 entries, 0 to 551\n",
      "Data columns (total 4 columns):\n",
      "code         552 non-null int64\n",
      "name         552 non-null object\n",
      "latitude     552 non-null float64\n",
      "longitude    552 non-null float64\n",
      "dtypes: float64(2), int64(1), object(1)\n",
      "memory usage: 17.3+ KB\n"
     ]
    }
   ],
   "source": [
    "station.info()"
   ]
  },
  {
   "cell_type": "code",
   "execution_count": 9,
   "metadata": {
    "scrolled": true
   },
   "outputs": [
    {
     "data": {
      "text/html": [
       "<div>\n",
       "<style scoped>\n",
       "    .dataframe tbody tr th:only-of-type {\n",
       "        vertical-align: middle;\n",
       "    }\n",
       "\n",
       "    .dataframe tbody tr th {\n",
       "        vertical-align: top;\n",
       "    }\n",
       "\n",
       "    .dataframe thead th {\n",
       "        text-align: right;\n",
       "    }\n",
       "</style>\n",
       "<table border=\"1\" class=\"dataframe\">\n",
       "  <thead>\n",
       "    <tr style=\"text-align: right;\">\n",
       "      <th></th>\n",
       "      <th>code</th>\n",
       "      <th>name</th>\n",
       "      <th>latitude</th>\n",
       "      <th>longitude</th>\n",
       "    </tr>\n",
       "  </thead>\n",
       "  <tbody>\n",
       "    <tr>\n",
       "      <th>0</th>\n",
       "      <td>7030</td>\n",
       "      <td>de Bordeaux / Marie-Anne</td>\n",
       "      <td>45.533409</td>\n",
       "      <td>-73.570657</td>\n",
       "    </tr>\n",
       "    <tr>\n",
       "      <th>1</th>\n",
       "      <td>6141</td>\n",
       "      <td>de Bordeaux / Rachel</td>\n",
       "      <td>45.532270</td>\n",
       "      <td>-73.568280</td>\n",
       "    </tr>\n",
       "    <tr>\n",
       "      <th>2</th>\n",
       "      <td>6100</td>\n",
       "      <td>Mackay / de Maisonneuve</td>\n",
       "      <td>45.496590</td>\n",
       "      <td>-73.578510</td>\n",
       "    </tr>\n",
       "    <tr>\n",
       "      <th>3</th>\n",
       "      <td>6064</td>\n",
       "      <td>Métro Peel (de Maisonneuve / Stanley)</td>\n",
       "      <td>45.500380</td>\n",
       "      <td>-73.575070</td>\n",
       "    </tr>\n",
       "    <tr>\n",
       "      <th>4</th>\n",
       "      <td>6730</td>\n",
       "      <td>35e avenue / Beaubien</td>\n",
       "      <td>45.570081</td>\n",
       "      <td>-73.573047</td>\n",
       "    </tr>\n",
       "  </tbody>\n",
       "</table>\n",
       "</div>"
      ],
      "text/plain": [
       "   code                                   name   latitude  longitude\n",
       "0  7030               de Bordeaux / Marie-Anne  45.533409 -73.570657\n",
       "1  6141                   de Bordeaux / Rachel  45.532270 -73.568280\n",
       "2  6100                Mackay / de Maisonneuve  45.496590 -73.578510\n",
       "3  6064  Métro Peel (de Maisonneuve / Stanley)  45.500380 -73.575070\n",
       "4  6730                  35e avenue / Beaubien  45.570081 -73.573047"
      ]
     },
     "execution_count": 9,
     "metadata": {},
     "output_type": "execute_result"
    }
   ],
   "source": [
    "station.head()"
   ]
  },
  {
   "cell_type": "code",
   "execution_count": 10,
   "metadata": {},
   "outputs": [
    {
     "data": {
      "text/plain": [
       "2560"
      ]
     },
     "execution_count": 10,
     "metadata": {},
     "output_type": "execute_result"
    }
   ],
   "source": [
    "def look_up(station_code):\n",
    "# this function finds the number of counts in df['start_station_code'] for a station_code, if not found, return 0\n",
    "    if station_code in df['start_station_code'].tolist():\n",
    "        count = df[df['start_station_code']==station_code]['start_station_code'].value_counts().tolist()[0]\n",
    "        return count\n",
    "    else:\n",
    "        return 0\n",
    "\n",
    "look_up(6100)"
   ]
  },
  {
   "cell_type": "code",
   "execution_count": 11,
   "metadata": {},
   "outputs": [
    {
     "data": {
      "text/html": [
       "<div>\n",
       "<style scoped>\n",
       "    .dataframe tbody tr th:only-of-type {\n",
       "        vertical-align: middle;\n",
       "    }\n",
       "\n",
       "    .dataframe tbody tr th {\n",
       "        vertical-align: top;\n",
       "    }\n",
       "\n",
       "    .dataframe thead th {\n",
       "        text-align: right;\n",
       "    }\n",
       "</style>\n",
       "<table border=\"1\" class=\"dataframe\">\n",
       "  <thead>\n",
       "    <tr style=\"text-align: right;\">\n",
       "      <th></th>\n",
       "      <th>code</th>\n",
       "      <th>name</th>\n",
       "      <th>latitude</th>\n",
       "      <th>longitude</th>\n",
       "      <th>start_freq</th>\n",
       "    </tr>\n",
       "  </thead>\n",
       "  <tbody>\n",
       "    <tr>\n",
       "      <th>0</th>\n",
       "      <td>7030</td>\n",
       "      <td>de Bordeaux / Marie-Anne</td>\n",
       "      <td>45.533409</td>\n",
       "      <td>-73.570657</td>\n",
       "      <td>314</td>\n",
       "    </tr>\n",
       "    <tr>\n",
       "      <th>1</th>\n",
       "      <td>6141</td>\n",
       "      <td>de Bordeaux / Rachel</td>\n",
       "      <td>45.532270</td>\n",
       "      <td>-73.568280</td>\n",
       "      <td>542</td>\n",
       "    </tr>\n",
       "    <tr>\n",
       "      <th>2</th>\n",
       "      <td>6100</td>\n",
       "      <td>Mackay / de Maisonneuve</td>\n",
       "      <td>45.496590</td>\n",
       "      <td>-73.578510</td>\n",
       "      <td>2560</td>\n",
       "    </tr>\n",
       "    <tr>\n",
       "      <th>3</th>\n",
       "      <td>6064</td>\n",
       "      <td>Métro Peel (de Maisonneuve / Stanley)</td>\n",
       "      <td>45.500380</td>\n",
       "      <td>-73.575070</td>\n",
       "      <td>1746</td>\n",
       "    </tr>\n",
       "    <tr>\n",
       "      <th>4</th>\n",
       "      <td>6730</td>\n",
       "      <td>35e avenue / Beaubien</td>\n",
       "      <td>45.570081</td>\n",
       "      <td>-73.573047</td>\n",
       "      <td>88</td>\n",
       "    </tr>\n",
       "  </tbody>\n",
       "</table>\n",
       "</div>"
      ],
      "text/plain": [
       "   code                                   name   latitude  longitude  \\\n",
       "0  7030               de Bordeaux / Marie-Anne  45.533409 -73.570657   \n",
       "1  6141                   de Bordeaux / Rachel  45.532270 -73.568280   \n",
       "2  6100                Mackay / de Maisonneuve  45.496590 -73.578510   \n",
       "3  6064  Métro Peel (de Maisonneuve / Stanley)  45.500380 -73.575070   \n",
       "4  6730                  35e avenue / Beaubien  45.570081 -73.573047   \n",
       "\n",
       "   start_freq  \n",
       "0         314  \n",
       "1         542  \n",
       "2        2560  \n",
       "3        1746  \n",
       "4          88  "
      ]
     },
     "execution_count": 11,
     "metadata": {},
     "output_type": "execute_result"
    }
   ],
   "source": [
    "station['start_freq'] = station['code'].apply(lambda x:look_up(x))\n",
    "station.head()"
   ]
  },
  {
   "cell_type": "code",
   "execution_count": 12,
   "metadata": {},
   "outputs": [
    {
     "data": {
      "text/plain": [
       "<matplotlib.axes._subplots.AxesSubplot at 0x27cce418c50>"
      ]
     },
     "execution_count": 12,
     "metadata": {},
     "output_type": "execute_result"
    },
    {
     "data": {
      "image/png": "[encoded data removed]",
      "text/plain": [
       "<Figure size 720x432 with 2 Axes>"
      ]
     },
     "metadata": {
      "needs_background": "light"
     },
     "output_type": "display_data"
    }
   ],
   "source": [
    "# plot the frequency of start on top of geographic locations of all stations\n",
    "fig, ax = plt.subplots()\n",
    "station.plot(kind='scatter', x='longitude', y='latitude', figsize=(10,6), c='start_freq', cmap=plt.get_cmap(\"coolwarm\"), ax=ax )"
   ]
  },
  {
   "cell_type": "markdown",
   "metadata": {},
   "source": [
    "The above is a scatter plot showing the geographic location of all stations. Each dot represents one station. The color of the dot represents the total number of trips that have been started from this station.\n",
    "\n",
    "What are the geographic locations of these most popolar stations for starting a trip? The table below gives the answer."
   ]
  },
  {
   "cell_type": "code",
   "execution_count": 13,
   "metadata": {
    "scrolled": true
   },
   "outputs": [
    {
     "data": {
      "text/html": [
       "<div>\n",
       "<style scoped>\n",
       "    .dataframe tbody tr th:only-of-type {\n",
       "        vertical-align: middle;\n",
       "    }\n",
       "\n",
       "    .dataframe tbody tr th {\n",
       "        vertical-align: top;\n",
       "    }\n",
       "\n",
       "    .dataframe thead th {\n",
       "        text-align: right;\n",
       "    }\n",
       "</style>\n",
       "<table border=\"1\" class=\"dataframe\">\n",
       "  <thead>\n",
       "    <tr style=\"text-align: right;\">\n",
       "      <th></th>\n",
       "      <th>code</th>\n",
       "      <th>name</th>\n",
       "      <th>latitude</th>\n",
       "      <th>longitude</th>\n",
       "      <th>start_freq</th>\n",
       "    </tr>\n",
       "  </thead>\n",
       "  <tbody>\n",
       "    <tr>\n",
       "      <th>2</th>\n",
       "      <td>6100</td>\n",
       "      <td>Mackay / de Maisonneuve</td>\n",
       "      <td>45.496590</td>\n",
       "      <td>-73.578510</td>\n",
       "      <td>2560</td>\n",
       "    </tr>\n",
       "    <tr>\n",
       "      <th>35</th>\n",
       "      <td>6184</td>\n",
       "      <td>Métro Mont-Royal (Rivard / du Mont-Royal)</td>\n",
       "      <td>45.524673</td>\n",
       "      <td>-73.582550</td>\n",
       "      <td>2151</td>\n",
       "    </tr>\n",
       "    <tr>\n",
       "      <th>485</th>\n",
       "      <td>6136</td>\n",
       "      <td>Métro Laurier (Rivard / Laurier)</td>\n",
       "      <td>45.527616</td>\n",
       "      <td>-73.589115</td>\n",
       "      <td>1879</td>\n",
       "    </tr>\n",
       "    <tr>\n",
       "      <th>124</th>\n",
       "      <td>6221</td>\n",
       "      <td>du Mont-Royal / Clark</td>\n",
       "      <td>45.519410</td>\n",
       "      <td>-73.586850</td>\n",
       "      <td>1837</td>\n",
       "    </tr>\n",
       "    <tr>\n",
       "      <th>53</th>\n",
       "      <td>6154</td>\n",
       "      <td>Marquette / du Mont-Royal</td>\n",
       "      <td>45.532290</td>\n",
       "      <td>-73.575440</td>\n",
       "      <td>1771</td>\n",
       "    </tr>\n",
       "  </tbody>\n",
       "</table>\n",
       "</div>"
      ],
      "text/plain": [
       "     code                                       name   latitude  longitude  \\\n",
       "2    6100                    Mackay / de Maisonneuve  45.496590 -73.578510   \n",
       "35   6184  Métro Mont-Royal (Rivard / du Mont-Royal)  45.524673 -73.582550   \n",
       "485  6136           Métro Laurier (Rivard / Laurier)  45.527616 -73.589115   \n",
       "124  6221                      du Mont-Royal / Clark  45.519410 -73.586850   \n",
       "53   6154                  Marquette / du Mont-Royal  45.532290 -73.575440   \n",
       "\n",
       "     start_freq  \n",
       "2          2560  \n",
       "35         2151  \n",
       "485        1879  \n",
       "124        1837  \n",
       "53         1771  "
      ]
     },
     "execution_count": 13,
     "metadata": {},
     "output_type": "execute_result"
    }
   ],
   "source": [
    "# information on the 5 most frequently used station for starting a trip\n",
    "station.nlargest(5, 'start_freq')"
   ]
  },
  {
   "cell_type": "markdown",
   "metadata": {},
   "source": [
    "The main observation I get is that the BIXI stations in the plateau area of Montreal (near subway station Mont-Royal and Laurier) are used very frequently for starting a trip, however, the most popular station is located in downtown montreal (code 6100, Mackay / de Maisonneuve)."
   ]
  }
 ],
 "metadata": {
  "kernelspec": {
   "display_name": "Python 3",
   "language": "python",
   "name": "python3"
  },
  "language_info": {
   "codemirror_mode": {
    "name": "ipython",
    "version": 3
   },
   "file_extension": ".py",
   "mimetype": "text/x-python",
   "name": "python",
   "nbconvert_exporter": "python",
   "pygments_lexer": "ipython3",
   "version": "3.7.1"
  }
 },
 "nbformat": 4,
 "nbformat_minor": 2
}
